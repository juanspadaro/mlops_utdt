{
 "cells": [
  {
   "cell_type": "code",
   "execution_count": 1,
   "id": "783fc00e",
   "metadata": {
    "id": "783fc00e"
   },
   "outputs": [],
   "source": [
    "import pandas as pd\n",
    "import random\n",
    "import string"
   ]
  },
  {
   "cell_type": "markdown",
   "id": "fae29868",
   "metadata": {
    "id": "fae29868"
   },
   "source": [
    "Genero 20 advertiser_id activos y 5 inactivos"
   ]
  },
  {
   "cell_type": "code",
   "execution_count": 2,
   "id": "1e321326",
   "metadata": {
    "id": "1e321326"
   },
   "outputs": [],
   "source": [
    "random.seed(4)\n",
    "active_advertisers = [''.join(random.choices(string.ascii_uppercase + string.digits, k = 20)) for _ in range(20)]\n",
    "inactive_advertisers = [''.join(random.choices(string.ascii_uppercase + string.digits, k = 20)) for _ in range(5)]\n",
    "all_advertisers = active_advertisers+inactive_advertisers"
   ]
  },
  {
   "cell_type": "code",
   "execution_count": 3,
   "id": "8d4020ed",
   "metadata": {
    "colab": {
     "base_uri": "https://localhost:8080/"
    },
    "id": "8d4020ed",
    "outputId": "19ecefbf-da30-44b9-d3bf-9cb563641463"
   },
   "outputs": [
    {
     "data": {
      "text/plain": [
       "['IDOFCO721HTJGDH7332G',\n",
       " 'LW045DVYSGRD75TK6U54',\n",
       " 'SOVPFK3BBWKTQM9HOHWJ',\n",
       " 'M0LU6DCI1WILGQBZ6808',\n",
       " 'AK81O7W3KGPEN8LABG2N',\n",
       " 'KD9PHCBGYFBRI9ET1O9R',\n",
       " 'IOBPI63RBJIHI5FB7U9O',\n",
       " '6X20RDH567MX2X3TXYJ7',\n",
       " '8C88YB6E8YCGWU07HA7A',\n",
       " '5E325T5HYL61QSABVR5V',\n",
       " 'EN1SA43DTN2LIR8DEW5S',\n",
       " 'P41C5HK4P2G5GFRMT6ZA',\n",
       " 'LTRZRCI4M19WYVL6Q6L5',\n",
       " '2WPF1NXECF3G6NUMWDO7',\n",
       " 'GXLKAA83238FVRU718EX',\n",
       " 'Y0W3K7OV6ZLILW96OO3K',\n",
       " 'OAGTYWN8WFC997VLDJH7',\n",
       " '62FIK8F2YT8JSFDBLEC9',\n",
       " 'K6Z0X85ZUY0TSF4RCG5J',\n",
       " 'OY5LNPB5A8FF43ITRZG3']"
      ]
     },
     "execution_count": 3,
     "metadata": {},
     "output_type": "execute_result"
    }
   ],
   "source": [
    "active_advertisers"
   ]
  },
  {
   "cell_type": "markdown",
   "id": "J37jNL95FiYn",
   "metadata": {
    "id": "J37jNL95FiYn"
   },
   "source": []
  },
  {
   "cell_type": "code",
   "execution_count": 4,
   "id": "fa8aa17f",
   "metadata": {
    "id": "fa8aa17f"
   },
   "outputs": [],
   "source": [
    "pd.DataFrame(active_advertisers, columns=['advertiser_id']).to_csv('advertiser_ids', index=False)"
   ]
  },
  {
   "cell_type": "markdown",
   "id": "0901d8ee",
   "metadata": {
    "id": "0901d8ee"
   },
   "source": [
    "Genero un catalogo de 100 productos para cada uno de los advertisables"
   ]
  },
  {
   "cell_type": "code",
   "execution_count": 5,
   "id": "f14e127e",
   "metadata": {
    "id": "f14e127e"
   },
   "outputs": [],
   "source": [
    "advertisers_catalogs = {}\n",
    "for advertiser in all_advertisers:\n",
    "    advertisers_catalogs[advertiser] = [''.join(random.choices(string.ascii_lowercase + string.digits, k = 6)) for _ in range(100)]"
   ]
  },
  {
   "cell_type": "code",
   "execution_count": 6,
   "id": "29536b71",
   "metadata": {
    "id": "29536b71"
   },
   "outputs": [],
   "source": [
    "possible_dates = [f'2024-11-{day:02d}' for day in range(20,31)] + [f'2024-12-{day:02d}' for day in range(1,20)]"
   ]
  },
  {
   "cell_type": "code",
   "execution_count": 7,
   "id": "dxChIAYTGAuW",
   "metadata": {
    "colab": {
     "base_uri": "https://localhost:8080/"
    },
    "id": "dxChIAYTGAuW",
    "outputId": "46f4e56a-4b28-41cb-dc9b-c82348571f80"
   },
   "outputs": [
    {
     "data": {
      "text/plain": [
       "['2024-11-20',\n",
       " '2024-11-21',\n",
       " '2024-11-22',\n",
       " '2024-11-23',\n",
       " '2024-11-24',\n",
       " '2024-11-25',\n",
       " '2024-11-26',\n",
       " '2024-11-27',\n",
       " '2024-11-28',\n",
       " '2024-11-29',\n",
       " '2024-11-30',\n",
       " '2024-12-01',\n",
       " '2024-12-02',\n",
       " '2024-12-03',\n",
       " '2024-12-04',\n",
       " '2024-12-05',\n",
       " '2024-12-06',\n",
       " '2024-12-07',\n",
       " '2024-12-08',\n",
       " '2024-12-09',\n",
       " '2024-12-10',\n",
       " '2024-12-11',\n",
       " '2024-12-12',\n",
       " '2024-12-13',\n",
       " '2024-12-14',\n",
       " '2024-12-15',\n",
       " '2024-12-16',\n",
       " '2024-12-17',\n",
       " '2024-12-18',\n",
       " '2024-12-19']"
      ]
     },
     "execution_count": 7,
     "metadata": {},
     "output_type": "execute_result"
    }
   ],
   "source": [
    "possible_dates"
   ]
  },
  {
   "cell_type": "markdown",
   "id": "3a70f46f",
   "metadata": {
    "id": "3a70f46f"
   },
   "source": [
    "Genero lineas de vistas de producto"
   ]
  },
  {
   "cell_type": "code",
   "execution_count": 8,
   "id": "9d9881d6",
   "metadata": {
    "id": "9d9881d6"
   },
   "outputs": [],
   "source": [
    "product_views = [[advertiser := random.choice(all_advertisers), random.choice(advertisers_catalogs[advertiser]), random.choice(possible_dates)] for _ in range(100_000)]"
   ]
  },
  {
   "cell_type": "code",
   "execution_count": 9,
   "id": "a9ad9fb2",
   "metadata": {
    "id": "a9ad9fb2"
   },
   "outputs": [],
   "source": [
    "df_product_views = pd.DataFrame(product_views, columns=['advertiser_id', 'product_id', 'date'])"
   ]
  },
  {
   "cell_type": "code",
   "execution_count": 10,
   "id": "6e325c08",
   "metadata": {
    "id": "6e325c08"
   },
   "outputs": [],
   "source": [
    "df_product_views = df_product_views.sort_values('date').reset_index(drop=True)"
   ]
  },
  {
   "cell_type": "code",
   "execution_count": 11,
   "id": "6b529e6b",
   "metadata": {
    "colab": {
     "base_uri": "https://localhost:8080/",
     "height": 676
    },
    "id": "6b529e6b",
    "outputId": "daed2d6a-2086-4513-c87d-ebd8c9ceff09"
   },
   "outputs": [
    {
     "data": {
      "text/html": [
       "<div>\n",
       "<style scoped>\n",
       "    .dataframe tbody tr th:only-of-type {\n",
       "        vertical-align: middle;\n",
       "    }\n",
       "\n",
       "    .dataframe tbody tr th {\n",
       "        vertical-align: top;\n",
       "    }\n",
       "\n",
       "    .dataframe thead th {\n",
       "        text-align: right;\n",
       "    }\n",
       "</style>\n",
       "<table border=\"1\" class=\"dataframe\">\n",
       "  <thead>\n",
       "    <tr style=\"text-align: right;\">\n",
       "      <th></th>\n",
       "      <th>advertiser_id</th>\n",
       "      <th>product_id</th>\n",
       "      <th>date</th>\n",
       "    </tr>\n",
       "  </thead>\n",
       "  <tbody>\n",
       "    <tr>\n",
       "      <th>0</th>\n",
       "      <td>KD9PHCBGYFBRI9ET1O9R</td>\n",
       "      <td>41ljsb</td>\n",
       "      <td>2024-11-20</td>\n",
       "    </tr>\n",
       "    <tr>\n",
       "      <th>1</th>\n",
       "      <td>6X20RDH567MX2X3TXYJ7</td>\n",
       "      <td>n7vqaj</td>\n",
       "      <td>2024-11-20</td>\n",
       "    </tr>\n",
       "    <tr>\n",
       "      <th>2</th>\n",
       "      <td>HC26ZE93SA4WWA0BRFM6</td>\n",
       "      <td>p3apy0</td>\n",
       "      <td>2024-11-20</td>\n",
       "    </tr>\n",
       "    <tr>\n",
       "      <th>3</th>\n",
       "      <td>SOVPFK3BBWKTQM9HOHWJ</td>\n",
       "      <td>2dhydo</td>\n",
       "      <td>2024-11-20</td>\n",
       "    </tr>\n",
       "    <tr>\n",
       "      <th>4</th>\n",
       "      <td>AK81O7W3KGPEN8LABG2N</td>\n",
       "      <td>gbodqb</td>\n",
       "      <td>2024-11-20</td>\n",
       "    </tr>\n",
       "    <tr>\n",
       "      <th>5</th>\n",
       "      <td>5E325T5HYL61QSABVR5V</td>\n",
       "      <td>asrduk</td>\n",
       "      <td>2024-11-20</td>\n",
       "    </tr>\n",
       "    <tr>\n",
       "      <th>6</th>\n",
       "      <td>8C88YB6E8YCGWU07HA7A</td>\n",
       "      <td>j6v398</td>\n",
       "      <td>2024-11-20</td>\n",
       "    </tr>\n",
       "    <tr>\n",
       "      <th>7</th>\n",
       "      <td>HC26ZE93SA4WWA0BRFM6</td>\n",
       "      <td>es46mq</td>\n",
       "      <td>2024-11-20</td>\n",
       "    </tr>\n",
       "    <tr>\n",
       "      <th>8</th>\n",
       "      <td>SOVPFK3BBWKTQM9HOHWJ</td>\n",
       "      <td>gvlbio</td>\n",
       "      <td>2024-11-20</td>\n",
       "    </tr>\n",
       "    <tr>\n",
       "      <th>9</th>\n",
       "      <td>LTRZRCI4M19WYVL6Q6L5</td>\n",
       "      <td>jd1iia</td>\n",
       "      <td>2024-11-20</td>\n",
       "    </tr>\n",
       "    <tr>\n",
       "      <th>10</th>\n",
       "      <td>GXLKAA83238FVRU718EX</td>\n",
       "      <td>ne30bo</td>\n",
       "      <td>2024-11-20</td>\n",
       "    </tr>\n",
       "    <tr>\n",
       "      <th>11</th>\n",
       "      <td>Y0W3K7OV6ZLILW96OO3K</td>\n",
       "      <td>huohta</td>\n",
       "      <td>2024-11-20</td>\n",
       "    </tr>\n",
       "    <tr>\n",
       "      <th>12</th>\n",
       "      <td>8C88YB6E8YCGWU07HA7A</td>\n",
       "      <td>5zjbo5</td>\n",
       "      <td>2024-11-20</td>\n",
       "    </tr>\n",
       "    <tr>\n",
       "      <th>13</th>\n",
       "      <td>9Z77N44VDW6KX6VBWJ4X</td>\n",
       "      <td>wa4f8w</td>\n",
       "      <td>2024-11-20</td>\n",
       "    </tr>\n",
       "    <tr>\n",
       "      <th>14</th>\n",
       "      <td>OY5LNPB5A8FF43ITRZG3</td>\n",
       "      <td>m2k1d7</td>\n",
       "      <td>2024-11-20</td>\n",
       "    </tr>\n",
       "    <tr>\n",
       "      <th>15</th>\n",
       "      <td>EN1SA43DTN2LIR8DEW5S</td>\n",
       "      <td>r99d9l</td>\n",
       "      <td>2024-11-20</td>\n",
       "    </tr>\n",
       "    <tr>\n",
       "      <th>16</th>\n",
       "      <td>OY5LNPB5A8FF43ITRZG3</td>\n",
       "      <td>9cu7vz</td>\n",
       "      <td>2024-11-20</td>\n",
       "    </tr>\n",
       "    <tr>\n",
       "      <th>17</th>\n",
       "      <td>LW045DVYSGRD75TK6U54</td>\n",
       "      <td>4714ya</td>\n",
       "      <td>2024-11-20</td>\n",
       "    </tr>\n",
       "    <tr>\n",
       "      <th>18</th>\n",
       "      <td>LW045DVYSGRD75TK6U54</td>\n",
       "      <td>g3aed2</td>\n",
       "      <td>2024-11-20</td>\n",
       "    </tr>\n",
       "    <tr>\n",
       "      <th>19</th>\n",
       "      <td>IDOFCO721HTJGDH7332G</td>\n",
       "      <td>dhertt</td>\n",
       "      <td>2024-11-20</td>\n",
       "    </tr>\n",
       "  </tbody>\n",
       "</table>\n",
       "</div>"
      ],
      "text/plain": [
       "           advertiser_id product_id        date\n",
       "0   KD9PHCBGYFBRI9ET1O9R     41ljsb  2024-11-20\n",
       "1   6X20RDH567MX2X3TXYJ7     n7vqaj  2024-11-20\n",
       "2   HC26ZE93SA4WWA0BRFM6     p3apy0  2024-11-20\n",
       "3   SOVPFK3BBWKTQM9HOHWJ     2dhydo  2024-11-20\n",
       "4   AK81O7W3KGPEN8LABG2N     gbodqb  2024-11-20\n",
       "5   5E325T5HYL61QSABVR5V     asrduk  2024-11-20\n",
       "6   8C88YB6E8YCGWU07HA7A     j6v398  2024-11-20\n",
       "7   HC26ZE93SA4WWA0BRFM6     es46mq  2024-11-20\n",
       "8   SOVPFK3BBWKTQM9HOHWJ     gvlbio  2024-11-20\n",
       "9   LTRZRCI4M19WYVL6Q6L5     jd1iia  2024-11-20\n",
       "10  GXLKAA83238FVRU718EX     ne30bo  2024-11-20\n",
       "11  Y0W3K7OV6ZLILW96OO3K     huohta  2024-11-20\n",
       "12  8C88YB6E8YCGWU07HA7A     5zjbo5  2024-11-20\n",
       "13  9Z77N44VDW6KX6VBWJ4X     wa4f8w  2024-11-20\n",
       "14  OY5LNPB5A8FF43ITRZG3     m2k1d7  2024-11-20\n",
       "15  EN1SA43DTN2LIR8DEW5S     r99d9l  2024-11-20\n",
       "16  OY5LNPB5A8FF43ITRZG3     9cu7vz  2024-11-20\n",
       "17  LW045DVYSGRD75TK6U54     4714ya  2024-11-20\n",
       "18  LW045DVYSGRD75TK6U54     g3aed2  2024-11-20\n",
       "19  IDOFCO721HTJGDH7332G     dhertt  2024-11-20"
      ]
     },
     "execution_count": 11,
     "metadata": {},
     "output_type": "execute_result"
    }
   ],
   "source": [
    "df_product_views.head(20)"
   ]
  },
  {
   "cell_type": "code",
   "execution_count": 12,
   "id": "82920f82",
   "metadata": {
    "id": "82920f82"
   },
   "outputs": [],
   "source": [
    "df_product_views.to_csv('product_views', index=False)"
   ]
  },
  {
   "cell_type": "markdown",
   "id": "59a5441f",
   "metadata": {
    "id": "59a5441f"
   },
   "source": [
    "Genero lineas de vistas de ads"
   ]
  },
  {
   "cell_type": "code",
   "execution_count": 13,
   "id": "000c1cec",
   "metadata": {
    "id": "000c1cec"
   },
   "outputs": [],
   "source": [
    "ads_views = [[advertiser := random.choice(all_advertisers), random.choice(advertisers_catalogs[advertiser]), random.choices(['impression', 'click'], weights=[99, 1])[0], random.choice(possible_dates)] for _ in range(100_000)]"
   ]
  },
  {
   "cell_type": "code",
   "execution_count": 14,
   "id": "4808515d",
   "metadata": {
    "id": "4808515d"
   },
   "outputs": [],
   "source": [
    "df_ads_views = pd.DataFrame(ads_views, columns=['advertiser_id', 'product_id', 'type', 'date'])"
   ]
  },
  {
   "cell_type": "code",
   "execution_count": 15,
   "id": "1243bec6",
   "metadata": {
    "id": "1243bec6"
   },
   "outputs": [],
   "source": [
    "df_ads_views = df_ads_views.sort_values('date').reset_index(drop=True)"
   ]
  },
  {
   "cell_type": "code",
   "execution_count": 16,
   "id": "317bde80",
   "metadata": {
    "colab": {
     "base_uri": "https://localhost:8080/",
     "height": 676
    },
    "id": "317bde80",
    "outputId": "5fb6e073-2833-4907-d5ca-bc8f7e0f86a6"
   },
   "outputs": [
    {
     "data": {
      "text/html": [
       "<div>\n",
       "<style scoped>\n",
       "    .dataframe tbody tr th:only-of-type {\n",
       "        vertical-align: middle;\n",
       "    }\n",
       "\n",
       "    .dataframe tbody tr th {\n",
       "        vertical-align: top;\n",
       "    }\n",
       "\n",
       "    .dataframe thead th {\n",
       "        text-align: right;\n",
       "    }\n",
       "</style>\n",
       "<table border=\"1\" class=\"dataframe\">\n",
       "  <thead>\n",
       "    <tr style=\"text-align: right;\">\n",
       "      <th></th>\n",
       "      <th>advertiser_id</th>\n",
       "      <th>product_id</th>\n",
       "      <th>type</th>\n",
       "      <th>date</th>\n",
       "    </tr>\n",
       "  </thead>\n",
       "  <tbody>\n",
       "    <tr>\n",
       "      <th>0</th>\n",
       "      <td>LTRZRCI4M19WYVL6Q6L5</td>\n",
       "      <td>8x7ecu</td>\n",
       "      <td>impression</td>\n",
       "      <td>2024-11-20</td>\n",
       "    </tr>\n",
       "    <tr>\n",
       "      <th>1</th>\n",
       "      <td>IOBPI63RBJIHI5FB7U9O</td>\n",
       "      <td>mj7gt0</td>\n",
       "      <td>impression</td>\n",
       "      <td>2024-11-20</td>\n",
       "    </tr>\n",
       "    <tr>\n",
       "      <th>2</th>\n",
       "      <td>EN1SA43DTN2LIR8DEW5S</td>\n",
       "      <td>crgpef</td>\n",
       "      <td>impression</td>\n",
       "      <td>2024-11-20</td>\n",
       "    </tr>\n",
       "    <tr>\n",
       "      <th>3</th>\n",
       "      <td>03KNVBO915KY2ZPGA57J</td>\n",
       "      <td>jheia9</td>\n",
       "      <td>impression</td>\n",
       "      <td>2024-11-20</td>\n",
       "    </tr>\n",
       "    <tr>\n",
       "      <th>4</th>\n",
       "      <td>HC26ZE93SA4WWA0BRFM6</td>\n",
       "      <td>ad23cg</td>\n",
       "      <td>impression</td>\n",
       "      <td>2024-11-20</td>\n",
       "    </tr>\n",
       "    <tr>\n",
       "      <th>5</th>\n",
       "      <td>KD9PHCBGYFBRI9ET1O9R</td>\n",
       "      <td>oatuww</td>\n",
       "      <td>impression</td>\n",
       "      <td>2024-11-20</td>\n",
       "    </tr>\n",
       "    <tr>\n",
       "      <th>6</th>\n",
       "      <td>IOBPI63RBJIHI5FB7U9O</td>\n",
       "      <td>ul0wsx</td>\n",
       "      <td>impression</td>\n",
       "      <td>2024-11-20</td>\n",
       "    </tr>\n",
       "    <tr>\n",
       "      <th>7</th>\n",
       "      <td>L6WM4665XZVS9MCZRTVI</td>\n",
       "      <td>a1orlq</td>\n",
       "      <td>impression</td>\n",
       "      <td>2024-11-20</td>\n",
       "    </tr>\n",
       "    <tr>\n",
       "      <th>8</th>\n",
       "      <td>IDOFCO721HTJGDH7332G</td>\n",
       "      <td>09aor9</td>\n",
       "      <td>impression</td>\n",
       "      <td>2024-11-20</td>\n",
       "    </tr>\n",
       "    <tr>\n",
       "      <th>9</th>\n",
       "      <td>LW045DVYSGRD75TK6U54</td>\n",
       "      <td>rusyuo</td>\n",
       "      <td>impression</td>\n",
       "      <td>2024-11-20</td>\n",
       "    </tr>\n",
       "    <tr>\n",
       "      <th>10</th>\n",
       "      <td>P41C5HK4P2G5GFRMT6ZA</td>\n",
       "      <td>3mhubk</td>\n",
       "      <td>impression</td>\n",
       "      <td>2024-11-20</td>\n",
       "    </tr>\n",
       "    <tr>\n",
       "      <th>11</th>\n",
       "      <td>OY5LNPB5A8FF43ITRZG3</td>\n",
       "      <td>twv4f1</td>\n",
       "      <td>impression</td>\n",
       "      <td>2024-11-20</td>\n",
       "    </tr>\n",
       "    <tr>\n",
       "      <th>12</th>\n",
       "      <td>2WPF1NXECF3G6NUMWDO7</td>\n",
       "      <td>ipdbkq</td>\n",
       "      <td>impression</td>\n",
       "      <td>2024-11-20</td>\n",
       "    </tr>\n",
       "    <tr>\n",
       "      <th>13</th>\n",
       "      <td>EN1SA43DTN2LIR8DEW5S</td>\n",
       "      <td>i8j3rw</td>\n",
       "      <td>impression</td>\n",
       "      <td>2024-11-20</td>\n",
       "    </tr>\n",
       "    <tr>\n",
       "      <th>14</th>\n",
       "      <td>Y0W3K7OV6ZLILW96OO3K</td>\n",
       "      <td>ilk57v</td>\n",
       "      <td>impression</td>\n",
       "      <td>2024-11-20</td>\n",
       "    </tr>\n",
       "    <tr>\n",
       "      <th>15</th>\n",
       "      <td>IDOFCO721HTJGDH7332G</td>\n",
       "      <td>2cwgag</td>\n",
       "      <td>impression</td>\n",
       "      <td>2024-11-20</td>\n",
       "    </tr>\n",
       "    <tr>\n",
       "      <th>16</th>\n",
       "      <td>OAGTYWN8WFC997VLDJH7</td>\n",
       "      <td>2pjd97</td>\n",
       "      <td>impression</td>\n",
       "      <td>2024-11-20</td>\n",
       "    </tr>\n",
       "    <tr>\n",
       "      <th>17</th>\n",
       "      <td>62FIK8F2YT8JSFDBLEC9</td>\n",
       "      <td>emzrk0</td>\n",
       "      <td>impression</td>\n",
       "      <td>2024-11-20</td>\n",
       "    </tr>\n",
       "    <tr>\n",
       "      <th>18</th>\n",
       "      <td>IOBPI63RBJIHI5FB7U9O</td>\n",
       "      <td>jffadn</td>\n",
       "      <td>impression</td>\n",
       "      <td>2024-11-20</td>\n",
       "    </tr>\n",
       "    <tr>\n",
       "      <th>19</th>\n",
       "      <td>SOVPFK3BBWKTQM9HOHWJ</td>\n",
       "      <td>f99ax7</td>\n",
       "      <td>impression</td>\n",
       "      <td>2024-11-20</td>\n",
       "    </tr>\n",
       "  </tbody>\n",
       "</table>\n",
       "</div>"
      ],
      "text/plain": [
       "           advertiser_id product_id        type        date\n",
       "0   LTRZRCI4M19WYVL6Q6L5     8x7ecu  impression  2024-11-20\n",
       "1   IOBPI63RBJIHI5FB7U9O     mj7gt0  impression  2024-11-20\n",
       "2   EN1SA43DTN2LIR8DEW5S     crgpef  impression  2024-11-20\n",
       "3   03KNVBO915KY2ZPGA57J     jheia9  impression  2024-11-20\n",
       "4   HC26ZE93SA4WWA0BRFM6     ad23cg  impression  2024-11-20\n",
       "5   KD9PHCBGYFBRI9ET1O9R     oatuww  impression  2024-11-20\n",
       "6   IOBPI63RBJIHI5FB7U9O     ul0wsx  impression  2024-11-20\n",
       "7   L6WM4665XZVS9MCZRTVI     a1orlq  impression  2024-11-20\n",
       "8   IDOFCO721HTJGDH7332G     09aor9  impression  2024-11-20\n",
       "9   LW045DVYSGRD75TK6U54     rusyuo  impression  2024-11-20\n",
       "10  P41C5HK4P2G5GFRMT6ZA     3mhubk  impression  2024-11-20\n",
       "11  OY5LNPB5A8FF43ITRZG3     twv4f1  impression  2024-11-20\n",
       "12  2WPF1NXECF3G6NUMWDO7     ipdbkq  impression  2024-11-20\n",
       "13  EN1SA43DTN2LIR8DEW5S     i8j3rw  impression  2024-11-20\n",
       "14  Y0W3K7OV6ZLILW96OO3K     ilk57v  impression  2024-11-20\n",
       "15  IDOFCO721HTJGDH7332G     2cwgag  impression  2024-11-20\n",
       "16  OAGTYWN8WFC997VLDJH7     2pjd97  impression  2024-11-20\n",
       "17  62FIK8F2YT8JSFDBLEC9     emzrk0  impression  2024-11-20\n",
       "18  IOBPI63RBJIHI5FB7U9O     jffadn  impression  2024-11-20\n",
       "19  SOVPFK3BBWKTQM9HOHWJ     f99ax7  impression  2024-11-20"
      ]
     },
     "execution_count": 16,
     "metadata": {},
     "output_type": "execute_result"
    }
   ],
   "source": [
    "df_ads_views.head(20)"
   ]
  },
  {
   "cell_type": "code",
   "execution_count": 17,
   "id": "f7a9a5af",
   "metadata": {
    "id": "f7a9a5af"
   },
   "outputs": [],
   "source": [
    "df_ads_views.to_csv('ads_views', index=False)"
   ]
  },
  {
   "cell_type": "code",
   "execution_count": null,
   "id": "y6JxpWQy2xnh",
   "metadata": {
    "id": "y6JxpWQy2xnh"
   },
   "outputs": [],
   "source": []
  }
 ],
 "metadata": {
  "colab": {
   "provenance": []
  },
  "kernelspec": {
   "display_name": "Python 3",
   "language": "python",
   "name": "python3"
  },
  "language_info": {
   "codemirror_mode": {
    "name": "ipython",
    "version": 3
   },
   "file_extension": ".py",
   "mimetype": "text/x-python",
   "name": "python",
   "nbconvert_exporter": "python",
   "pygments_lexer": "ipython3",
   "version": "3.11.9"
  }
 },
 "nbformat": 4,
 "nbformat_minor": 5
}
